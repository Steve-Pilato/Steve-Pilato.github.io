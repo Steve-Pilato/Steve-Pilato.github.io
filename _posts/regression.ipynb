{
 "cells": [
  {
   "cell_type": "markdown",
   "metadata": {},
   "source": [
    "# Calculating the Intercept and Regression Coefficient using the Matrix Inverse in Python"
   ]
  },
  {
   "cell_type": "markdown",
   "metadata": {},
   "source": [
    "### In linear regression, we map the predictor variable/s X to the dependent variable Y with the linear function Y = f(x) = a + bx"
   ]
  },
  {
   "cell_type": "markdown",
   "metadata": {},
   "source": [
    "### You can think about this as solving a system of linear equations. For example, if we had an independent and dependent variable with n observations, we could write out the series of equations like this...\n",
    "\n",
    "$y_{1} = a + b_{1}x_{1} \\\\\n",
    "y_{2} = a + b_{1}x_{2} \\\\\n",
    "... \\\\\n",
    "y_{n-1} = a + b_{1}x_{n-1}\\\\\n",
    "y_{n} = a + b_{1}x_{n}$\n"
   ]
  },
  {
   "cell_type": "markdown",
   "metadata": {},
   "source": [
    "### We can change the representation of the linear system using matrix notation \n",
    " #### Matrix equation: Ax = b where A is the matrix containing predictors, x is the matrix containing the coefficients, and b is the target/dependent variable. \n",
    "\n",
    "$\n",
    "\\begin{bmatrix}\n",
    "1  & x_{1} \\\\\n",
    "1 & x_{2} \\\\\n",
    "... & ... \\\\\n",
    "1 & x_{n-1}\\\\\n",
    "1 & x_{n}\n",
    "\\end{bmatrix} \n",
    "$\n",
    "$\n",
    "\\begin{bmatrix}\n",
    "a\\\\\n",
    "b_{1}\n",
    "\\end{bmatrix}\n",
    "$\n",
    "$\n",
    "=\n",
    "\\begin{bmatrix}\n",
    "y_{1} \\\\\n",
    "y_{2} \\\\\n",
    "... \\\\\n",
    "y_{n-1} \\\\\n",
    "y_{n}\n",
    "\\end{bmatrix} \n",
    "$\n"
   ]
  },
  {
   "cell_type": "markdown",
   "metadata": {},
   "source": [
    "### We can solve for x (a and b) by performing the following operations\n",
    "$(A^{T}A)^{-1}(A^{T}A)x = (A^{T}A)^{-1}A^{T}b$ or $x = (A^{T}A)^{-1}A^{T}b$\n"
   ]
  },
  {
   "cell_type": "markdown",
   "metadata": {},
   "source": [
    "## Let's import some data and use Python to test some of what we discussed "
   ]
  },
  {
   "cell_type": "code",
   "execution_count": 60,
   "metadata": {},
   "outputs": [],
   "source": [
    "# Import libraries\n",
    "import pandas as pd \n",
    "import numpy as np\n",
    "import matplotlib.pyplot as plt\n",
    "from sklearn.linear_model import LinearRegression"
   ]
  },
  {
   "cell_type": "code",
   "execution_count": 7,
   "metadata": {},
   "outputs": [
    {
     "data": {
      "text/html": [
       "<div>\n",
       "<style scoped>\n",
       "    .dataframe tbody tr th:only-of-type {\n",
       "        vertical-align: middle;\n",
       "    }\n",
       "\n",
       "    .dataframe tbody tr th {\n",
       "        vertical-align: top;\n",
       "    }\n",
       "\n",
       "    .dataframe thead th {\n",
       "        text-align: right;\n",
       "    }\n",
       "</style>\n",
       "<table border=\"1\" class=\"dataframe\">\n",
       "  <thead>\n",
       "    <tr style=\"text-align: right;\">\n",
       "      <th></th>\n",
       "      <th>Unnamed: 0</th>\n",
       "      <th>x</th>\n",
       "      <th>y</th>\n",
       "    </tr>\n",
       "  </thead>\n",
       "  <tbody>\n",
       "    <tr>\n",
       "      <th>0</th>\n",
       "      <td>1</td>\n",
       "      <td>4.373518</td>\n",
       "      <td>89.996377</td>\n",
       "    </tr>\n",
       "    <tr>\n",
       "      <th>1</th>\n",
       "      <td>2</td>\n",
       "      <td>4.723557</td>\n",
       "      <td>96.019228</td>\n",
       "    </tr>\n",
       "    <tr>\n",
       "      <th>2</th>\n",
       "      <td>3</td>\n",
       "      <td>5.671688</td>\n",
       "      <td>116.386921</td>\n",
       "    </tr>\n",
       "    <tr>\n",
       "      <th>3</th>\n",
       "      <td>4</td>\n",
       "      <td>4.860543</td>\n",
       "      <td>100.563548</td>\n",
       "    </tr>\n",
       "    <tr>\n",
       "      <th>4</th>\n",
       "      <td>5</td>\n",
       "      <td>4.797259</td>\n",
       "      <td>100.377688</td>\n",
       "    </tr>\n",
       "  </tbody>\n",
       "</table>\n",
       "</div>"
      ],
      "text/plain": [
       "   Unnamed: 0         x           y\n",
       "0           1  4.373518   89.996377\n",
       "1           2  4.723557   96.019228\n",
       "2           3  5.671688  116.386921\n",
       "3           4  4.860543  100.563548\n",
       "4           5  4.797259  100.377688"
      ]
     },
     "execution_count": 7,
     "metadata": {},
     "output_type": "execute_result"
    }
   ],
   "source": [
    "# Import synthetic dataset \n",
    "data = pd.read_csv(\"C:\\\\Users\\\\steve\\\\OneDrive\\\\Documents\\\\website projects\\\\statistics\\\\synthetic data\\\\simple_regression.csv\")\n",
    "#View dataframe\n",
    "data.head()"
   ]
  },
  {
   "cell_type": "code",
   "execution_count": 10,
   "metadata": {},
   "outputs": [
    {
     "data": {
      "text/plain": [
       "Text(0, 0.5, 'y - Dependent Variable')"
      ]
     },
     "execution_count": 10,
     "metadata": {},
     "output_type": "execute_result"
    },
    {
     "data": {
      "image/png": "[encoded data removed]",
      "text/plain": [
       "<Figure size 432x288 with 1 Axes>"
      ]
     },
     "metadata": {
      "needs_background": "light"
     },
     "output_type": "display_data"
    }
   ],
   "source": [
    "# Visualize data using matplotlib\n",
    "plt.scatter(data.x, data.y, edgecolor = \"black\")\n",
    "plt.xlabel(\"x - Independent Variable\")\n",
    "plt.ylabel(\"y - Dependent Variable\")"
   ]
  },
  {
   "cell_type": "markdown",
   "metadata": {},
   "source": [
    "##### Based on the above figure, we can see that there is a clear linear relationship between x and y (What a strange coincidence)"
   ]
  },
  {
   "cell_type": "markdown",
   "metadata": {},
   "source": [
    "#### Note. The numpy library has a host of linear algerbra functions (numpy.linalg)"
   ]
  },
  {
   "cell_type": "markdown",
   "metadata": {},
   "source": [
    "#### Creating the A and B matracies"
   ]
  },
  {
   "cell_type": "code",
   "execution_count": 39,
   "metadata": {},
   "outputs": [],
   "source": [
    "#Create column of ones (This is for the intercept)\n",
    "col1 = np.ones((data.shape[0], 1)) \n",
    "#Create a numpy array from the x variable in the above pandas data frame\n",
    "col2 = np.array(data.x)\n",
    "#Create A\n",
    "A = np.column_stack((col1, col2))\n",
    "#Create B\n",
    "B = np.array(data.y)"
   ]
  },
  {
   "cell_type": "markdown",
   "metadata": {},
   "source": [
    "#### Perform the above mentioned matrix operations"
   ]
  },
  {
   "cell_type": "code",
   "execution_count": 51,
   "metadata": {},
   "outputs": [],
   "source": [
    "#Left multiply A by A transpose\n",
    "AtA = np.transpose(A) @ A\n",
    "# Perform the explicit inverse on AtA\n",
    "AtAinv = np.linalg.inv(AtA)"
   ]
  },
  {
   "cell_type": "markdown",
   "metadata": {},
   "source": [
    "### Before solving for x, let's do a quick sanity check to see if the inverse was calculated correctly.\n",
    "#### Remember that \n",
    "$(A^{T}A)^{-1}(A^{T}A) = I$ Thus,\n",
    "$(A^{T}A)^{-1}(A^{T}A)x = I x$"
   ]
  },
  {
   "cell_type": "code",
   "execution_count": 57,
   "metadata": {},
   "outputs": [
    {
     "name": "stdout",
     "output_type": "stream",
     "text": [
      "[[1. 0.]\n",
      " [0. 1.]]\n"
     ]
    }
   ],
   "source": [
    "print(AtAinv @ AtA)"
   ]
  },
  {
   "cell_type": "markdown",
   "metadata": {},
   "source": [
    "#### Solving for x"
   ]
  },
  {
   "cell_type": "code",
   "execution_count": 68,
   "metadata": {},
   "outputs": [
    {
     "name": "stdout",
     "output_type": "stream",
     "text": [
      "a =  3.2436220896970553\n",
      "b1 =  19.9273221320193\n"
     ]
    }
   ],
   "source": [
    "x = AtAinv @ (np.transpose(A) @ B)\n",
    "print(\"a = \", x[0])\n",
    "print(\"b1 = \", x[1])"
   ]
  },
  {
   "cell_type": "markdown",
   "metadata": {},
   "source": [
    "#### Let's check our work by using sklearn"
   ]
  },
  {
   "cell_type": "code",
   "execution_count": 67,
   "metadata": {},
   "outputs": [
    {
     "name": "stdout",
     "output_type": "stream",
     "text": [
      "a =  3.2436220896965153\n",
      "b1 = 19.927322132019434\n"
     ]
    }
   ],
   "source": [
    "reg = LinearRegression().fit(A, B)\n",
    "print(\"a = \", reg.intercept_)\n",
    "print(\"b1 =\", reg.coef_[1])"
   ]
  }
 ],
 "metadata": {
  "kernelspec": {
   "display_name": "Python 3",
   "language": "python",
   "name": "python3"
  },
  "language_info": {
   "codemirror_mode": {
    "name": "ipython",
    "version": 3
   },
   "file_extension": ".py",
   "mimetype": "text/x-python",
   "name": "python",
   "nbconvert_exporter": "python",
   "pygments_lexer": "ipython3",
   "version": "3.7.6"
  }
 },
 "nbformat": 4,
 "nbformat_minor": 4
}
